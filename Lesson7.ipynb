{
 "cells": [
  {
   "cell_type": "code",
   "execution_count": 1,
   "metadata": {
    "collapsed": true,
    "deletable": true,
    "editable": true
   },
   "outputs": [],
   "source": [
    "import tensorflow as tf"
   ]
  },
  {
   "cell_type": "code",
   "execution_count": 2,
   "metadata": {
    "collapsed": false,
    "deletable": true,
    "editable": true
   },
   "outputs": [],
   "source": [
    "input = tf.constant(3.6)\n",
    "weight = tf.Variable(2.0)\n",
    "output = tf.multiply(input, weight, name = 'output')\n",
    "with tf.Session() as sess:\n",
    "    sess.run(tf.global_variables_initializer())\n",
    "    gr = tf.get_default_graph();\n",
    "    op = gr.get_operations()\n",
    "    #for i in op:\n",
    "       # if i.name  == \"Mul\":\n",
    "           # print(i)\n",
    "    #print(sess.run(output))\n",
    "    \n",
    "    \n",
    "    \n",
    "    output_ = tf.constant(10.0)\n",
    "    loss = (output - output_)**2\n",
    "    optimizer = tf.train.GradientDescentOptimizer(0.025)\n",
    "    train_step = optimizer.minimize(loss)\n"
   ]
  },
  {
   "cell_type": "code",
   "execution_count": 4,
   "metadata": {
    "collapsed": false
   },
   "outputs": [
    {
     "name": "stdout",
     "output_type": "stream",
     "text": [
      "2.504\n",
      "2.68141\n",
      "2.74386\n",
      "2.76584\n",
      "2.77357\n",
      "2.7763\n",
      "2.77726\n",
      "2.77759\n",
      "2.77771\n",
      "2.77776\n",
      "2.77777\n",
      "2.77778\n",
      "2.77778\n",
      "2.77778\n",
      "2.77778\n"
     ]
    }
   ],
   "source": [
    "output_ = tf.constant(10.0)\n",
    "loss = (output - output_)**2\n",
    "optimizer = tf.train.GradientDescentOptimizer(0.025)\n",
    "train_step = optimizer.minimize(loss)\n",
    "with tf.Session() as sess:\n",
    "    sess.run(tf.global_variables_initializer())\n",
    "    while sess.run(loss)>0.000000000001:\n",
    "        sess.run(train_step)\n",
    "        print(sess.run(weight))"
   ]
  },
  {
   "cell_type": "code",
   "execution_count": null,
   "metadata": {
    "collapsed": true
   },
   "outputs": [],
   "source": []
  }
 ],
 "metadata": {
  "kernelspec": {
   "display_name": "Python 3",
   "language": "python",
   "name": "python3"
  },
  "language_info": {
   "codemirror_mode": {
    "name": "ipython",
    "version": 3
   },
   "file_extension": ".py",
   "mimetype": "text/x-python",
   "name": "python",
   "nbconvert_exporter": "python",
   "pygments_lexer": "ipython3",
   "version": "3.6.0"
  }
 },
 "nbformat": 4,
 "nbformat_minor": 2
}
